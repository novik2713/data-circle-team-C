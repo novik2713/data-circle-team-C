{
 "cells": [
  {
   "cell_type": "code",
   "execution_count": 36,
   "metadata": {},
   "outputs": [],
   "source": [
    "import pandas as pd\n",
    "import numpy as np\n",
    "import matplotlib.pyplot as plt\n",
    "import seaborn as sns"
   ]
  },
  {
   "cell_type": "code",
   "execution_count": 3,
   "metadata": {},
   "outputs": [],
   "source": [
    "df = pd.read_csv(\"D:\\Redi_DataCircle2\\survey_results_public.csv\")"
   ]
  },
  {
   "cell_type": "code",
   "execution_count": 5,
   "metadata": {},
   "outputs": [
    {
     "name": "stdout",
     "output_type": "stream",
     "text": [
      "<class 'pandas.core.frame.DataFrame'>\n",
      "RangeIndex: 89184 entries, 0 to 89183\n",
      "Data columns (total 84 columns):\n",
      " #   Column                               Non-Null Count  Dtype  \n",
      "---  ------                               --------------  -----  \n",
      " 0   ResponseId                           89184 non-null  int64  \n",
      " 1   Q120                                 89184 non-null  object \n",
      " 2   MainBranch                           89184 non-null  object \n",
      " 3   Age                                  89184 non-null  object \n",
      " 4   Employment                           87898 non-null  object \n",
      " 5   RemoteWork                           73810 non-null  object \n",
      " 6   CodingActivities                     73764 non-null  object \n",
      " 7   EdLevel                              87973 non-null  object \n",
      " 8   LearnCode                            87663 non-null  object \n",
      " 9   LearnCodeOnline                      70084 non-null  object \n",
      " 10  LearnCodeCoursesCert                 37076 non-null  object \n",
      " 11  YearsCode                            87435 non-null  object \n",
      " 12  YearsCodePro                         66136 non-null  object \n",
      " 13  DevType                              76872 non-null  object \n",
      " 14  OrgSize                              65043 non-null  object \n",
      " 15  PurchaseInfluence                    64964 non-null  object \n",
      " 16  TechList                             60851 non-null  object \n",
      " 17  BuyNewTool                           83009 non-null  object \n",
      " 18  Country                              87973 non-null  object \n",
      " 19  Currency                             65334 non-null  object \n",
      " 20  CompTotal                            48225 non-null  float64\n",
      " 21  LanguageHaveWorkedWith               87140 non-null  object \n",
      " 22  LanguageWantToWorkWith               80709 non-null  object \n",
      " 23  DatabaseHaveWorkedWith               73435 non-null  object \n",
      " 24  DatabaseWantToWorkWith               60911 non-null  object \n",
      " 25  PlatformHaveWorkedWith               63628 non-null  object \n",
      " 26  PlatformWantToWorkWith               51308 non-null  object \n",
      " 27  WebframeHaveWorkedWith               66938 non-null  object \n",
      " 28  WebframeWantToWorkWith               56741 non-null  object \n",
      " 29  MiscTechHaveWorkedWith               57019 non-null  object \n",
      " 30  MiscTechWantToWorkWith               46848 non-null  object \n",
      " 31  ToolsTechHaveWorkedWith              77884 non-null  object \n",
      " 32  ToolsTechWantToWorkWith              68315 non-null  object \n",
      " 33  NEWCollabToolsHaveWorkedWith         85864 non-null  object \n",
      " 34  NEWCollabToolsWantToWorkWith         76649 non-null  object \n",
      " 35  OpSysPersonal use                    86557 non-null  object \n",
      " 36  OpSysProfessional use                78587 non-null  object \n",
      " 37  OfficeStackAsyncHaveWorkedWith       69090 non-null  object \n",
      " 38  OfficeStackAsyncWantToWorkWith       53743 non-null  object \n",
      " 39  OfficeStackSyncHaveWorkedWith        83439 non-null  object \n",
      " 40  OfficeStackSyncWantToWorkWith        69776 non-null  object \n",
      " 41  AISearchHaveWorkedWith               56328 non-null  object \n",
      " 42  AISearchWantToWorkWith               46150 non-null  object \n",
      " 43  AIDevHaveWorkedWith                  25904 non-null  object \n",
      " 44  AIDevWantToWorkWith                  19587 non-null  object \n",
      " 45  NEWSOSites                           87973 non-null  object \n",
      " 46  SOVisitFreq                          87140 non-null  object \n",
      " 47  SOAccount                            87852 non-null  object \n",
      " 48  SOPartFreq                           66061 non-null  object \n",
      " 49  SOComm                               87692 non-null  object \n",
      " 50  SOAI                                 47858 non-null  object \n",
      " 51  AISelect                             87973 non-null  object \n",
      " 52  AISent                               61501 non-null  object \n",
      " 53  AIAcc                                38594 non-null  object \n",
      " 54  AIBen                                61396 non-null  object \n",
      " 55  AIToolInterested in Using            32783 non-null  object \n",
      " 56  AIToolCurrently Using                36137 non-null  object \n",
      " 57  AIToolNot interested in Using        21069 non-null  object \n",
      " 58  AINextVery different                 12661 non-null  object \n",
      " 59  AINextNeither different nor similar  6599 non-null   object \n",
      " 60  AINextSomewhat similar               6238 non-null   object \n",
      " 61  AINextVery similar                   2621 non-null   object \n",
      " 62  AINextSomewhat different             23303 non-null  object \n",
      " 63  TBranch                              65768 non-null  object \n",
      " 64  ICorPM                               43668 non-null  object \n",
      " 65  WorkExp                              43579 non-null  float64\n",
      " 66  Knowledge_1                          42535 non-null  object \n",
      " 67  Knowledge_2                          41670 non-null  object \n",
      " 68  Knowledge_3                          41798 non-null  object \n",
      " 69  Knowledge_4                          41684 non-null  object \n",
      " 70  Knowledge_5                          41527 non-null  object \n",
      " 71  Knowledge_6                          41520 non-null  object \n",
      " 72  Knowledge_7                          41467 non-null  object \n",
      " 73  Knowledge_8                          41404 non-null  object \n",
      " 74  Frequency_1                          41916 non-null  object \n",
      " 75  Frequency_2                          41925 non-null  object \n",
      " 76  Frequency_3                          41054 non-null  object \n",
      " 77  TimeSearching                        42778 non-null  object \n",
      " 78  TimeAnswering                        42629 non-null  object \n",
      " 79  ProfessionalTech                     41783 non-null  object \n",
      " 80  Industry                             36774 non-null  object \n",
      " 81  SurveyLength                         86485 non-null  object \n",
      " 82  SurveyEase                           86554 non-null  object \n",
      " 83  ConvertedCompYearly                  48019 non-null  float64\n",
      "dtypes: float64(3), int64(1), object(80)\n",
      "memory usage: 57.2+ MB\n"
     ]
    }
   ],
   "source": [
    "df.info()"
   ]
  },
  {
   "cell_type": "code",
   "execution_count": 20,
   "metadata": {},
   "outputs": [
    {
     "ename": "NameError",
     "evalue": "name 'LearnCode' is not defined",
     "output_type": "error",
     "traceback": [
      "\u001b[1;31m---------------------------------------------------------------------------\u001b[0m",
      "\u001b[1;31mNameError\u001b[0m                                 Traceback (most recent call last)",
      "Cell \u001b[1;32mIn[20], line 1\u001b[0m\n\u001b[1;32m----> 1\u001b[0m \u001b[43mLearnCode\u001b[49m\n\u001b[0;32m      2\u001b[0m LearnCodeOnline\n",
      "\u001b[1;31mNameError\u001b[0m: name 'LearnCode' is not defined"
     ]
    }
   ],
   "source": [
    "can write a function that look for some words and create a boolean column\n",
    "LearnCode\n",
    "LearnCodeOnline\n",
    "df[\"LearnCodeCoursesCert\"]\n",
    "df[\"LanguageHaveWorkedWith\"]\n",
    "DatabaseHaveWorkedWith\n",
    "PlatformHaveWorkedWith\n",
    "WebframeHaveWorkedWith\n",
    "MiscTechHaveWorkedWith\n",
    "ToolsTechHaveWorkedWith\n",
    "NEWCollabToolsHaveWorkedWith\n",
    " SurveyLength                         86485 non-null  object \n",
    " 82  SurveyEase                           86554 non-null  object \n",
    " 83  ConvertedCompYearly"
   ]
  },
  {
   "cell_type": "code",
   "execution_count": 49,
   "metadata": {},
   "outputs": [
    {
     "data": {
      "text/plain": [
       "ConvertedCompYearly\n",
       "64254.0     784\n",
       "53545.0     615\n",
       "150000.0    585\n",
       "200000.0    558\n",
       "74963.0     557\n",
       "           ... \n",
       "31494.0       1\n",
       "859.0         1\n",
       "77904.0       1\n",
       "74917.0       1\n",
       "16917.0       1\n",
       "Name: count, Length: 8784, dtype: int64"
      ]
     },
     "execution_count": 49,
     "metadata": {},
     "output_type": "execute_result"
    }
   ],
   "source": [
    "df[\"ConvertedCompYearly\"].value_counts()#.head(40)"
   ]
  },
  {
   "cell_type": "code",
   "execution_count": null,
   "metadata": {},
   "outputs": [],
   "source": [
    "check CompTotal  if  is the same as if df[\"ConvertedCompYearly\"] and df[\"Currency\"]. look for outliers, mistakes, not correct convertations and other animalies"
   ]
  },
  {
   "cell_type": "code",
   "execution_count": null,
   "metadata": {},
   "outputs": [],
   "source": [
    "#Check if important for salary\n",
    "df[\"RemoteWork\"]\n",
    "df[\"Age\"] - categorize\n",
    "df[\"Employment\"] - simplify\n",
    "df[\"EdLevel\"]\n",
    "df[\"YearsCode\"] or \"YearsCodePro\" before change rthe columns less then or more then  (should be normalized or categorized for ML)\n",
    "\"YearsCodePro\" make more sence cause its exp without studying. check if its always less or not. also  check with df[\"WorkExp\"]  and choose one of them\n",
    "df[\"DevType\"] question is if there is enought for some special roles\n",
    "df[\"OrgSize\"] categorise\n",
    "df[\"PurchaseInfluence\"] categorise\n",
    "df[\"Country\"] - group firstly to bigger groups (EU, EastEurope, others)\n",
    "df[\"ProfessionalTech\"] group firstly \n",
    "df[\"Industry\"]  "
   ]
  },
  {
   "cell_type": "code",
   "execution_count": null,
   "metadata": {},
   "outputs": [],
   "source": [
    "df[\"Currency\"] use this to check info in Country and afterwards drop as unrelevant"
   ]
  },
  {
   "cell_type": "code",
   "execution_count": 7,
   "metadata": {},
   "outputs": [],
   "source": [
    "def drop_from_df(df, labels, axis=1):\n",
    "    return df.drop(labels, axis=axis, errors='ignore')"
   ]
  },
  {
   "cell_type": "code",
   "execution_count": 13,
   "metadata": {},
   "outputs": [
    {
     "data": {
      "text/plain": [
       "Age\n",
       "25-34 years old       33247\n",
       "35-44 years old       20532\n",
       "18-24 years old       17931\n",
       "45-54 years old        8334\n",
       "Under 18 years old     4128\n",
       "55-64 years old        3392\n",
       "65 years or older      1171\n",
       "Prefer not to say       449\n",
       "Name: count, dtype: int64"
      ]
     },
     "execution_count": 13,
     "metadata": {},
     "output_type": "execute_result"
    }
   ],
   "source": [
    "df[\"Age\"].value_counts()"
   ]
  },
  {
   "cell_type": "code",
   "execution_count": 42,
   "metadata": {},
   "outputs": [
    {
     "data": {
      "text/plain": [
       "Knowledge_1\n",
       "Agree                         19812\n",
       "Strongly agree                15502\n",
       "Neither agree nor disagree     3593\n",
       "Disagree                       2603\n",
       "Strongly disagree              1025\n",
       "Name: count, dtype: int64"
      ]
     },
     "execution_count": 42,
     "metadata": {},
     "output_type": "execute_result"
    }
   ],
   "source": [
    "df[\"Knowledge_1\"].value_counts()"
   ]
  },
  {
   "cell_type": "code",
   "execution_count": null,
   "metadata": {},
   "outputs": [],
   "source": [
    "df = drop_from_df(df, ['Q120', 'TechList','BuyNewTool','SurveyLength','SurveyEase',])"
   ]
  },
  {
   "cell_type": "code",
   "execution_count": 11,
   "metadata": {},
   "outputs": [],
   "source": [
    "replacement_map = {\n",
    "    \"I am a developer by profession\": \"dev\",\n",
    "    \"I am not primarily a developer, but I write code sometimes as part of my work/studies\": \"code, but not dev\",\n",
    "    \"I am learning to code\": \"learning\",\n",
    "    \"I code primarily as a hobby\": \"hobby\",\n",
    "    \"I used to be a developer by profession, but no longer am\": \"was developer\",\n",
    "    \"None of these\": \"other\"\n",
    "}\n",
    "df['MainBranch'] = df['MainBranch'].replace(replacement_map)"
   ]
  },
  {
   "cell_type": "code",
   "execution_count": 43,
   "metadata": {},
   "outputs": [
    {
     "data": {
      "text/plain": [
       "CompTotal\n",
       "1.000000e+05    1355\n",
       "6.000000e+04    1290\n",
       "1.200000e+05    1240\n",
       "1.500000e+05    1150\n",
       "8.000000e+04    1066\n",
       "                ... \n",
       "1.642800e+06       1\n",
       "1.380910e+05       1\n",
       "2.957000e+04       1\n",
       "4.190000e+05       1\n",
       "3.300000e+09       1\n",
       "Name: count, Length: 3828, dtype: int64"
      ]
     },
     "execution_count": 43,
     "metadata": {},
     "output_type": "execute_result"
    }
   ],
   "source": [
    "df[\"CompTotal\"].value_counts()#.head(40) - do a visualisation of distribution"
   ]
  },
  {
   "cell_type": "code",
   "execution_count": 44,
   "metadata": {},
   "outputs": [
    {
     "ename": "SyntaxError",
     "evalue": "invalid syntax (217119686.py, line 1)",
     "output_type": "error",
     "traceback": [
      "\u001b[1;36m  Cell \u001b[1;32mIn[44], line 1\u001b[1;36m\u001b[0m\n\u001b[1;33m    We can give a points depends from the answer and summarise all answers.\u001b[0m\n\u001b[1;37m       ^\u001b[0m\n\u001b[1;31mSyntaxError\u001b[0m\u001b[1;31m:\u001b[0m invalid syntax\n"
     ]
    }
   ],
   "source": [
    "We can give a points depends from the answer and summarise all answers. \n",
    "Afterwards categories and check if there is a corellation with salary\n",
    "\n",
    "For example\n",
    "Agree\"5\"\n",
    "Strongly agree \"4\"\n",
    "Neither agree nor disagree \"3\"\n",
    "Disagree \"2\"\n",
    "Strongly disagree \"1\"\n",
    "NaN 0\n",
    "Max = 40 points min. 0\n",
    "Knowledge_1                          42535 non-null  object \n",
    " 67  Knowledge_2                          41670 non-null  object \n",
    " 68  Knowledge_3                          41798 non-null  object \n",
    " 69  Knowledge_4                          41684 non-null  object \n",
    " 70  Knowledge_5                          41527 non-null  object \n",
    " 71  Knowledge_6                          41520 non-null  object \n",
    " 72  Knowledge_7                          41467 non-null  object \n",
    " 73  Knowledge_8  "
   ]
  },
  {
   "cell_type": "code",
   "execution_count": null,
   "metadata": {},
   "outputs": [],
   "source": [
    "Frequency 1. Needing help from people outside of your immediate team?  \n",
    "2. Interacting with people outside of your immediate team?  \n",
    "\n",
    "3. Encountering knowledge silos (where one individual or team has information that's not\n",
    "shared or distributed with other individuals or teams) at work?\n"
   ]
  },
  {
   "cell_type": "code",
   "execution_count": 46,
   "metadata": {},
   "outputs": [
    {
     "data": {
      "text/plain": [
       "Frequency_1\n",
       "1-2 times a week     25528\n",
       "Never                10707\n",
       "3-5 times a week      4100\n",
       "6-10 times a week      847\n",
       "10+ times a week       734\n",
       "Name: count, dtype: int64"
      ]
     },
     "metadata": {},
     "output_type": "display_data"
    },
    {
     "data": {
      "text/plain": [
       "Frequency_2\n",
       "1-2 times a week     18930\n",
       "3-5 times a week      9809\n",
       "10+ times a week      4794\n",
       "6-10 times a week     4383\n",
       "Never                 4009\n",
       "Name: count, dtype: int64"
      ]
     },
     "metadata": {},
     "output_type": "display_data"
    },
    {
     "data": {
      "text/plain": [
       "Frequency_3\n",
       "1-2 times a week     21470\n",
       "Never                12107\n",
       "3-5 times a week      5125\n",
       "6-10 times a week     1280\n",
       "10+ times a week      1072\n",
       "Name: count, dtype: int64"
      ]
     },
     "metadata": {},
     "output_type": "display_data"
    }
   ],
   "source": [
    "display (df[\"Frequency_1\"].value_counts()\n",
    "         , df[\"Frequency_2\"].value_counts()\n",
    "         , df[\"Frequency_3\"].value_counts()\n",
    "         )"
   ]
  }
 ],
 "metadata": {
  "kernelspec": {
   "display_name": "CAB",
   "language": "python",
   "name": "python3"
  },
  "language_info": {
   "codemirror_mode": {
    "name": "ipython",
    "version": 3
   },
   "file_extension": ".py",
   "mimetype": "text/x-python",
   "name": "python",
   "nbconvert_exporter": "python",
   "pygments_lexer": "ipython3",
   "version": "3.10.12"
  }
 },
 "nbformat": 4,
 "nbformat_minor": 2
}
